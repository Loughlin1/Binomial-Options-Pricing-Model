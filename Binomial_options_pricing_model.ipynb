{
 "cells": [
  {
   "cell_type": "markdown",
   "metadata": {},
   "source": [
    "\n",
    "## Binomial Options Pricing Model\n",
    "This python notebook covers the implementation of the Binomial Options Pricing Model. If you are interested in learning about what this is, then check out this article explaining it: https://bathquantgroup.netlify.app/blog/bopm\n",
    "\n",
    "The function below takes the parameters for the initial stock price (S), strike price (K), time to maturity (T), risk-free rate (r), volatility (sigma), number of steps in the binomial tree (N), and the type of the option (either 'call' or 'put'). \n",
    "\n",
    "\n",
    "- Up and Down Factors: Calculates the up (u) and down (d) factors based on the volatility and time step. These factors determine how much the stock price can rise or fall in each step.\n",
    "- Risk-Neutral Probability q: This is the probability of the stock price moving up in the risk-neutral world, calculated using the risk-free rate, and the up and down factors.\n",
    "- Asset Prices at Maturity: Computes the possible prices of the underlying asset at the expiration of the option.\n",
    "- Option Values at Maturity: Depending on whether it's a call or put option, this computes the payoff for each possible asset price at maturity.\n",
    "- Backward Iteration through the Tree: Using dynamic programming, the script calculates the option value at each preceding node by discounting the expected payoff from the next step.\n",
    "- Output: Finally, the price of the option today is given by the first element of the option values array after completing the backward iteration.\n",
    "\n",
    "This script can be modified to accommodate American options or to change the assumptions about dividends or other factors influencing the underlying asset's price."
   ]
  },
  {
   "cell_type": "code",
   "execution_count": 10,
   "metadata": {},
   "outputs": [],
   "source": [
    "import numpy as np\n",
    "\n",
    "def binomial_option_pricing(S, K, T, r, sigma, N, option_type='call'):\n",
    "    \"\"\"\n",
    "    Parameters:\n",
    "    S : float - initial stock price\n",
    "    K : float - strike price of the option\n",
    "    T : float - time to expiration in years\n",
    "    r : float - risk-free interest rate (annual)\n",
    "    sigma : float - volatility of the underlying stock\n",
    "    N : int - number of steps in the binomial tree\n",
    "    option_type : str - type of option ('call' or 'put')\n",
    "    \n",
    "    Returns:\n",
    "    float - estimated option price\n",
    "    \"\"\"\n",
    "    # Time interval\n",
    "    dt = T / N\n",
    "    # Calculate up and down factors\n",
    "    u = np.exp(sigma * np.sqrt(dt))\n",
    "    d = 1 / u\n",
    "    \n",
    "    # Risk-neutral probability\n",
    "    q = (np.exp(r * dt) - d) / (u - d)\n",
    "    \n",
    "    # Initialize asset prices at maturity\n",
    "    asset_prices = np.array([S * d**j * u**(N - j) for j in range(N + 1)])\n",
    "    \n",
    "    # Initialize option values at maturity\n",
    "    if option_type == 'call':\n",
    "        option_values = np.maximum(asset_prices - K, 0)\n",
    "    elif option_type == 'put':\n",
    "        option_values = np.maximum(K - asset_prices, 0)\n",
    "    \n",
    "    # Iterate backwards through the tree\n",
    "    for i in range(N - 1, -1, -1):\n",
    "        option_values = (q * option_values[:-1] + (1 - q) * option_values[1:]) * np.exp(-r * dt)\n",
    "    \n",
    "    return option_values[0]\n"
   ]
  },
  {
   "cell_type": "markdown",
   "metadata": {},
   "source": [
    "## Examples\n",
    "To effectively test `binomial_option_pricing()`, we should consider a variety of scenarios that could affect the price of options. These scenarios should include variations in all input parameters like the initial stock price, strike price, time to expiration, risk-free rate, volatility, number of steps, and option types. Below are a few example test cases:\n"
   ]
  },
  {
   "cell_type": "markdown",
   "metadata": {},
   "source": [
    "### Test Case 1: Basic Functionality Test\n",
    "Objective: Test the function with basic, reasonable parameters to ensure it handles straightforward inputs correctly.\n",
    "Inputs:\n",
    "- Initial Stock Price (S): $100\n",
    "- Strike Price (K): $100\n",
    "- Time to Expiration (T): 1 year\n",
    "- Risk-Free Rate (r): 5% (0.05)\n",
    "- Volatility (sigma): 20% (0.2)\n",
    "- Number of Steps (N): 50\n",
    "- Option Type: 'call'\n",
    "\n",
    "Expected Output: Roughly around the Black-Scholes price for these parameters, approximately $10.45"
   ]
  },
  {
   "cell_type": "code",
   "execution_count": 2,
   "metadata": {},
   "outputs": [
    {
     "name": "stdout",
     "output_type": "stream",
     "text": [
      "Call Option Price: 10.41\n",
      "Put Option Price: 5.53\n"
     ]
    }
   ],
   "source": [
    "S = 100  # initial stock price\n",
    "K = 100  # strike price\n",
    "T = 1    # time to expiration\n",
    "r = 0.05 # risk-free rate\n",
    "sigma = 0.2  # volatility\n",
    "N = 50   # number of steps\n",
    "\n",
    "# Calculate call and put prices\n",
    "call_price = binomial_option_pricing(S, K, T, r, sigma, N, 'call')\n",
    "put_price = binomial_option_pricing(S, K, T, r, sigma, N, 'put')\n",
    "\n",
    "print(f\"Call Option Price: {call_price:.2f}\")\n",
    "print(f\"Put Option Price: {put_price:.2f}\")"
   ]
  },
  {
   "cell_type": "markdown",
   "metadata": {},
   "source": [
    "### Test Case 2: Deep In-The-Money Call Option\n",
    "Objective: Evaluate a call option that is deep in-the-money (current stock price far above strike price).\n",
    "\n",
    "Expected Output: Significantly higher than the basic test case, reflecting the greater intrinsic value."
   ]
  },
  {
   "cell_type": "code",
   "execution_count": 3,
   "metadata": {},
   "outputs": [
    {
     "name": "stdout",
     "output_type": "stream",
     "text": [
      "Call Option Price: 54.97\n"
     ]
    }
   ],
   "source": [
    "S = 150  # initial stock price\n",
    "K = 100  # strike price\n",
    "T = 1    # time to expiration\n",
    "r = 0.05 # risk-free rate\n",
    "sigma = 0.2  # volatility\n",
    "N = 50   # number of steps\n",
    "\n",
    "# Calculate call and put prices\n",
    "call_price = binomial_option_pricing(S, K, T, r, sigma, N, 'call')\n",
    "\n",
    "print(f\"Call Option Price: {call_price:.2f}\")"
   ]
  },
  {
   "cell_type": "markdown",
   "metadata": {},
   "source": [
    "### Test Case 3: Out-of-The-Money Put Option\n",
    "Objective: Assess a put option that is out-of-the-money (current stock price above the strike price).\n",
    "\n",
    "Expected Output: Should have some value reflecting the time value despite being out of the money, but much less than an in-the-money option.\n"
   ]
  },
  {
   "cell_type": "code",
   "execution_count": 4,
   "metadata": {},
   "outputs": [
    {
     "name": "stdout",
     "output_type": "stream",
     "text": [
      "Put Option Price: 10.20\n"
     ]
    }
   ],
   "source": [
    "S = 90  # initial stock price\n",
    "K = 100  # strike price\n",
    "T = 1    # time to expiration\n",
    "r = 0.05 # risk-free rate\n",
    "sigma = 0.2  # volatility\n",
    "N = 50   # number of steps\n",
    "\n",
    "# Calculate put price\n",
    "put_price = binomial_option_pricing(S, K, T, r, sigma, N, 'put')\n",
    "\n",
    "print(f\"Put Option Price: {put_price:.2f}\")"
   ]
  },
  {
   "cell_type": "markdown",
   "metadata": {},
   "source": [
    "### Test Case 5: Short Time to Expiration\n",
    "Objective: Verify how a shorter time to expiration affects the pricing, particularly near expiry.\n",
    "\n",
    "Expected Output: Much lower than for longer periods due to less time for the stock to move.\n"
   ]
  },
  {
   "cell_type": "code",
   "execution_count": 5,
   "metadata": {},
   "outputs": [
    {
     "name": "stdout",
     "output_type": "stream",
     "text": [
      "Call Option Price: 2.71\n"
     ]
    }
   ],
   "source": [
    "S = 100  # initial stock price\n",
    "K = 100  # strike price\n",
    "T = 0.1    # time to expiration\n",
    "r = 0.05 # risk-free rate\n",
    "sigma = 0.2  # volatility\n",
    "N = 10   # number of steps (fewer steps due to shorter period)\n",
    "\n",
    "# Calculate call price\n",
    "call_price = binomial_option_pricing(S, K, T, r, sigma, N, 'call')\n",
    "\n",
    "print(f\"Call Option Price: {call_price:.2f}\")"
   ]
  }
 ],
 "metadata": {
  "kernelspec": {
   "display_name": "base",
   "language": "python",
   "name": "python3"
  },
  "language_info": {
   "codemirror_mode": {
    "name": "ipython",
    "version": 3
   },
   "file_extension": ".py",
   "mimetype": "text/x-python",
   "name": "python",
   "nbconvert_exporter": "python",
   "pygments_lexer": "ipython3",
   "version": "3.11.5"
  }
 },
 "nbformat": 4,
 "nbformat_minor": 2
}
